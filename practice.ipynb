{
 "cells": [
  {
   "cell_type": "code",
   "execution_count": 37,
   "id": "465d3d0d",
   "metadata": {},
   "outputs": [
    {
     "name": "stdout",
     "output_type": "stream",
     "text": [
      "Python\n",
      "C++\n",
      "Java\n",
      "Kotlin\n"
     ]
    }
   ],
   "source": [
    "codes = [\"Python\", \"C++\", \"Java\", \"Kotlin\"]\n",
    "for code in codes:\n",
    "    print(code)"
   ]
  },
  {
   "cell_type": "code",
   "execution_count": 30,
   "id": "923792aa",
   "metadata": {},
   "outputs": [
    {
     "data": {
      "text/plain": [
       "' \\nLoop Control:\\n\\n1. break – exits the loop.\\n2. continue – skips the current iteration.\\n3. else with loops – runs when loop is not exited with break.\\n\\n'"
      ]
     },
     "execution_count": 30,
     "metadata": {},
     "output_type": "execute_result"
    }
   ],
   "source": [
    "\"\"\" \n",
    "Loop Control:\n",
    "\n",
    "1. break – exits the loop.\n",
    "2. continue – skips the current iteration.\n",
    "3. else with loops – runs when loop is not exited with break.\n",
    "\n",
    "\"\"\""
   ]
  },
  {
   "cell_type": "code",
   "execution_count": 43,
   "id": "69bbecb2",
   "metadata": {},
   "outputs": [],
   "source": [
    "codes = (\"Python\", \"Java\", \"C++\")\n",
    "for code in codes:\n",
    "    if code == \"Python\":\n",
    "        break\n",
    "    print(\"Python\")\n",
    "else:\n",
    "    print(\"code\")"
   ]
  },
  {
   "cell_type": "code",
   "execution_count": 57,
   "id": "8c83162e",
   "metadata": {},
   "outputs": [],
   "source": [
    "def greetings():\n",
    "    \"This is docstring of greetings function\"\n",
    "    print(\"helli\")\n",
    "    return"
   ]
  },
  {
   "cell_type": "code",
   "execution_count": null,
   "id": "6ee5bb36",
   "metadata": {},
   "outputs": [],
   "source": [
    "def even_odd(x):\n",
    "    if "
   ]
  },
  {
   "cell_type": "code",
   "execution_count": 68,
   "id": "91867f4d",
   "metadata": {},
   "outputs": [
    {
     "ename": "ModuleNotFoundError",
     "evalue": "No module named 'torch'",
     "output_type": "error",
     "traceback": [
      "\u001b[0;31m---------------------------------------------------------------------------\u001b[0m",
      "\u001b[0;31mModuleNotFoundError\u001b[0m                       Traceback (most recent call last)",
      "Cell \u001b[0;32mIn[68], line 3\u001b[0m\n\u001b[1;32m      1\u001b[0m \u001b[38;5;28;01mimport\u001b[39;00m \u001b[38;5;21;01mmath\u001b[39;00m\n\u001b[1;32m      2\u001b[0m \u001b[38;5;28;01mimport\u001b[39;00m \u001b[38;5;21;01mnumpy\u001b[39;00m \u001b[38;5;28;01mas\u001b[39;00m \u001b[38;5;21;01mnp\u001b[39;00m\n\u001b[0;32m----> 3\u001b[0m \u001b[38;5;28;01mimport\u001b[39;00m \u001b[38;5;21;01mtorch\u001b[39;00m\n\u001b[1;32m      5\u001b[0m hidden_size\u001b[38;5;241m=\u001b[39m\u001b[38;5;241m512\u001b[39m        \n\u001b[1;32m      6\u001b[0m max_sequence_length\u001b[38;5;241m=\u001b[39m\u001b[38;5;241m768\u001b[39m\n",
      "\u001b[0;31mModuleNotFoundError\u001b[0m: No module named 'torch'"
     ]
    }
   ],
   "source": [
    "import math\n",
    "import numpy as np\n",
    "import torch\n",
    "\n",
    "hidden_size=512        \n",
    "max_sequence_length=768\n",
    "pos_enc = torch.zeros(max_sequence_length, hidden_size)\n",
    "position = torch.arange(0.0, max_sequence_length).unsqueeze(1)\n",
    "coef = -math.log(10000.0) / hidden_size\n",
    "div_term = torch.exp(coef * torch.arange(0.0, hidden_size, 2))\n",
    "pos_enc[:, 0::2] = torch.sin(position * div_term)\n",
    "pos_enc[:, 1::2] = torch.cos(position * div_term)\n",
    "pos_enc.div_(math.sqrt(hidden_size))\n",
    "T=pos_enc.cpu().detach().numpy()"
   ]
  },
  {
   "cell_type": "code",
   "execution_count": null,
   "id": "3619b25d",
   "metadata": {},
   "outputs": [],
   "source": []
  }
 ],
 "metadata": {
  "kernelspec": {
   "display_name": "base",
   "language": "python",
   "name": "python3"
  },
  "language_info": {
   "codemirror_mode": {
    "name": "ipython",
    "version": 3
   },
   "file_extension": ".py",
   "mimetype": "text/x-python",
   "name": "python",
   "nbconvert_exporter": "python",
   "pygments_lexer": "ipython3",
   "version": "3.12.7"
  }
 },
 "nbformat": 4,
 "nbformat_minor": 5
}
