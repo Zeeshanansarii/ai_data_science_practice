{
 "cells": [
  {
   "cell_type": "code",
   "execution_count": 4,
   "id": "6ce0076a",
   "metadata": {},
   "outputs": [],
   "source": [
    "str = \"Hello peers welcome to python programming\""
   ]
  },
  {
   "cell_type": "code",
   "execution_count": null,
   "id": "cf519961",
   "metadata": {},
   "outputs": [
    {
     "name": "stdout",
     "output_type": "stream",
     "text": [
      " \n",
      "r\n",
      "m\n"
     ]
    }
   ],
   "source": [
    "# Concept of Indexing\n",
    "print(str[5])\n",
    "print(str[9])\n",
    "print(str[-4])\n",
    "print(str[])"
   ]
  },
  {
   "cell_type": "code",
   "execution_count": 17,
   "id": "fbfb02a7",
   "metadata": {},
   "outputs": [
    {
     "name": "stdout",
     "output_type": "stream",
     "text": [
      "Hello peers welcome to python programming\n",
      "lo peers welcome to python programmi\n",
      "lo peers welcome to python pr\n",
      "peers welcom\n",
      "gnimmargorp nohtyp ot emoclew sreep olleH\n",
      "Hoewotynomg\n"
     ]
    }
   ],
   "source": [
    "# Concept of Slicing\n",
    "\"\"\"\n",
    "Syntax of slicing is :   Str[ start : stop : step ] \n",
    "\"\"\"\n",
    "print(str[:])\n",
    "print(str[ 3:-2 ])\n",
    "print(str[ 3 : -9])\n",
    "print(str[ 6 : -23])\n",
    "print(str[::-1])\n",
    "print(str[::4])"
   ]
  },
  {
   "cell_type": "code",
   "execution_count": 20,
   "id": "e086506c",
   "metadata": {},
   "outputs": [
    {
     "name": "stdout",
     "output_type": "stream",
     "text": [
      "HELLO WORLD\n",
      "11\n"
     ]
    }
   ],
   "source": [
    "str = \"Hello World\"\n",
    "print(str.upper())\n",
    "print(len(str))"
   ]
  },
  {
   "cell_type": "code",
   "execution_count": null,
   "id": "0f71091b",
   "metadata": {},
   "outputs": [],
   "source": []
  }
 ],
 "metadata": {
  "kernelspec": {
   "display_name": "base",
   "language": "python",
   "name": "python3"
  },
  "language_info": {
   "codemirror_mode": {
    "name": "ipython",
    "version": 3
   },
   "file_extension": ".py",
   "mimetype": "text/x-python",
   "name": "python",
   "nbconvert_exporter": "python",
   "pygments_lexer": "ipython3",
   "version": "3.12.7"
  }
 },
 "nbformat": 4,
 "nbformat_minor": 5
}
