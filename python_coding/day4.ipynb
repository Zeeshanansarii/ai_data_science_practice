{
 "cells": [
  {
   "cell_type": "code",
   "execution_count": null,
   "id": "a89db6bd",
   "metadata": {},
   "outputs": [],
   "source": [
    "# Tuple: Data Structure of Python\n"
   ]
  }
 ],
 "metadata": {
  "kernelspec": {
   "display_name": "base",
   "language": "python",
   "name": "python3"
  },
  "language_info": {
   "name": "python",
   "version": "3.12.7"
  }
 },
 "nbformat": 4,
 "nbformat_minor": 5
}
