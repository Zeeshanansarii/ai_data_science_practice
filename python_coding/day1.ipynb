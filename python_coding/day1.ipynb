{
 "cells": [
  {
   "cell_type": "code",
   "execution_count": null,
   "id": "64271ee1",
   "metadata": {},
   "outputs": [
    {
     "name": "stdout",
     "output_type": "stream",
     "text": [
      "6\n"
     ]
    }
   ],
   "source": [
    "num1 = 2\n",
    "num2 = 4\n",
    "print(num1 + num2)"
   ]
  },
  {
   "cell_type": "code",
   "execution_count": null,
   "id": "77c9b568",
   "metadata": {},
   "outputs": [
    {
     "name": "stdout",
     "output_type": "stream",
     "text": [
      "a + b + c\n"
     ]
    }
   ],
   "source": [
    "a = '111111'\n",
    "b = '22222'\n",
    "c = 2222222\n",
    "print(f\"a + b + c\")"
   ]
  },
  {
   "cell_type": "code",
   "execution_count": null,
   "id": "6c8e6e03",
   "metadata": {},
   "outputs": [
    {
     "name": "stdout",
     "output_type": "stream",
     "text": [
      "555222\n"
     ]
    }
   ],
   "source": [
    "#Input functions\n",
    "num1 = input(\"Enter the first number: \")\n",
    "num2 = input(\"Enter the Second number: \")\n",
    "print(num1 + num2)"
   ]
  },
  {
   "cell_type": "code",
   "execution_count": null,
   "id": "ae64ca8a",
   "metadata": {},
   "outputs": [
    {
     "name": "stdout",
     "output_type": "stream",
     "text": [
      "The name is ddfd and my age is 2\n"
     ]
    }
   ],
   "source": [
    "# f string function\n",
    "name = input(\"What is your Name\")\n",
    "age = int(input(\"What is your age ?\"))\n",
    "print(f\"The name is {name} and my age is {age}\")"
   ]
  },
  {
   "cell_type": "code",
   "execution_count": null,
   "id": "7b3f7cf3",
   "metadata": {},
   "outputs": [
    {
     "name": "stdout",
     "output_type": "stream",
     "text": [
      "The Multiplication of two is 55.0 and 55.0 is 3025.0\n",
      "The muiltiplication of two numbers is 55.0 and 55.0, num3\n"
     ]
    }
   ],
   "source": [
    "num1 = float(input(\"Enter the first number\"))\n",
    "num2 = float(input(\"Enter the second number\"))\n",
    "\n",
    "num3 = num1 * num2\n",
    "\n",
    "print(f\"The Multiplication of two is {num1} and {num2} is {num3}\")\n",
    "print(f\"The mulitiplication of two numbers is {num1} and {num2}\", num3)"
   ]
  },
  {
   "cell_type": "code",
   "execution_count": null,
   "id": "67f27d15",
   "metadata": {},
   "outputs": [],
   "source": []
  }
 ],
 "metadata": {
  "kernelspec": {
   "display_name": "base",
   "language": "python",
   "name": "python3"
  },
  "language_info": {
   "codemirror_mode": {
    "name": "ipython",
    "version": 3
   },
   "file_extension": ".py",
   "mimetype": "text/x-python",
   "name": "python",
   "nbconvert_exporter": "python",
   "pygments_lexer": "ipython3",
   "version": "3.12.7"
  }
 },
 "nbformat": 4,
 "nbformat_minor": 5
}
