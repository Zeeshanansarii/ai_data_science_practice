{
 "cells": [
  {
   "cell_type": "code",
   "execution_count": null,
   "id": "64271ee1",
   "metadata": {},
   "outputs": [
    {
     "name": "stdout",
     "output_type": "stream",
     "text": [
      "num1 + num2\n"
     ]
    }
   ],
   "source": [
    "num1 = 2\n",
    "num2 = 4\n",
    "\n",
    "print(\"num1 + num2\")\n"
   ]
  },
  {
   "cell_type": "code",
   "execution_count": 12,
   "id": "77c9b568",
   "metadata": {},
   "outputs": [
    {
     "name": "stdout",
     "output_type": "stream",
     "text": [
      "a + b + c\n"
     ]
    }
   ],
   "source": [
    "a = '111111'\n",
    "b = '22222'\n",
    "c = 2222222\n",
    "\n",
    "print(f\"a + b + c\")"
   ]
  },
  {
   "cell_type": "code",
   "execution_count": null,
   "id": "6c8e6e03",
   "metadata": {},
   "outputs": [
    {
     "name": "stdout",
     "output_type": "stream",
     "text": [
      "nnbvvcxd\n"
     ]
    }
   ],
   "source": [
    "#Input functions\n",
    "\n",
    "num1 = input(\"Enter the first number: \")\n",
    "num2 = input(\"Enter the Second number: \")\n",
    "\n",
    "print(fnum1 + num2)"
   ]
  },
  {
   "cell_type": "code",
   "execution_count": null,
   "id": "361f0696",
   "metadata": {},
   "outputs": [],
   "source": []
  },
  {
   "cell_type": "code",
   "execution_count": null,
   "id": "ae64ca8a",
   "metadata": {},
   "outputs": [
    {
     "name": "stdout",
     "output_type": "stream",
     "text": [
      "The Entered Name is ssd and the age is 12.0\n"
     ]
    }
   ],
   "source": [
    "# f string function\n",
    "\n",
    "name = input(\"What is your Name\")\n",
    "age = int(input(\"What is your age ?\"))\n",
    "\n",
    "print(f\"\")"
   ]
  },
  {
   "cell_type": "code",
   "execution_count": null,
   "id": "5a970953",
   "metadata": {},
   "outputs": [],
   "source": []
  }
 ],
 "metadata": {
  "kernelspec": {
   "display_name": "base",
   "language": "python",
   "name": "python3"
  },
  "language_info": {
   "codemirror_mode": {
    "name": "ipython",
    "version": 3
   },
   "file_extension": ".py",
   "mimetype": "text/x-python",
   "name": "python",
   "nbconvert_exporter": "python",
   "pygments_lexer": "ipython3",
   "version": "3.12.7"
  }
 },
 "nbformat": 4,
 "nbformat_minor": 5
}
