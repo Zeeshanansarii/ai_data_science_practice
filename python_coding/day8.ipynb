{
 "cells": [
  {
   "cell_type": "code",
   "execution_count": null,
   "id": "cfd93501",
   "metadata": {},
   "outputs": [
    {
     "name": "stdout",
     "output_type": "stream",
     "text": [
      "300\n",
      "20000\n"
     ]
    }
   ],
   "source": [
    "\"\"\" OOPS Coding \"\"\"\n",
    "#Define Class : ClassName\n",
    "class ClassName:\n",
    "\n",
    "    #Define Method : using constructor\n",
    "    def __init__(self):\n",
    "\n",
    "        # Varibles : Attributes\n",
    "        self.num_1 = 100\n",
    "        self.num_2 = 200\n",
    "\n",
    "    # Define Method : Sum()\n",
    "    def Sum(self):\n",
    "        return (self.num_1 + self.num_2)\n",
    "    def Mul(self):\n",
    "        return (self.num_1 * self.num_2)\n",
    "\n",
    "#Create Object : A\n",
    "A = ClassName()\n",
    "\n",
    "# Calling a functions using DOT operator Sum()\n",
    "ans = A.Sum()\n",
    "ans1 = A.Mul()\n",
    "\n",
    "print(ans)\n",
    "print(ans1)"
   ]
  },
  {
   "cell_type": "code",
   "execution_count": null,
   "id": "9b4eb119",
   "metadata": {},
   "outputs": [],
   "source": []
  }
 ],
 "metadata": {
  "kernelspec": {
   "display_name": "base",
   "language": "python",
   "name": "python3"
  },
  "language_info": {
   "codemirror_mode": {
    "name": "ipython",
    "version": 3
   },
   "file_extension": ".py",
   "mimetype": "text/x-python",
   "name": "python",
   "nbconvert_exporter": "python",
   "pygments_lexer": "ipython3",
   "version": "3.12.7"
  }
 },
 "nbformat": 4,
 "nbformat_minor": 5
}
